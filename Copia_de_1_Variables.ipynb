{
  "nbformat": 4,
  "nbformat_minor": 0,
  "metadata": {
    "colab": {
      "provenance": [],
      "include_colab_link": true
    },
    "kernelspec": {
      "name": "python3",
      "display_name": "Python 3"
    },
    "language_info": {
      "name": "python"
    }
  },
  "cells": [
    {
      "cell_type": "markdown",
      "metadata": {
        "id": "view-in-github",
        "colab_type": "text"
      },
      "source": [
        "<a href=\"https://colab.research.google.com/github/Mateo289/Cuadernos-Python_Basic/blob/main/Copia_de_1_Variables.ipynb\" target=\"_parent\"><img src=\"https://colab.research.google.com/assets/colab-badge.svg\" alt=\"Open In Colab\"/></a>"
      ]
    },
    {
      "cell_type": "markdown",
      "source": [
        "#Cuaderno 1: Ejercicios Python\n",
        "#Mateo Duque Gaviria 2024\n",
        "#Introduction to Python Notebooks - Google Colab\n",
        "\n",
        "\n",
        "\n"
      ],
      "metadata": {
        "id": "CY3REa3O8ldU"
      }
    },
    {
      "cell_type": "markdown",
      "source": [
        "Exercises"
      ],
      "metadata": {
        "id": "TrnXNHyUyUS_"
      }
    },
    {
      "cell_type": "markdown",
      "source": [
        "\n",
        "1. Write a program that displays the result of the following arithmetic operation on the screen: $x(t) = \\left(\\frac{3+2}{2.5}\\right)^2$\n",
        "\n",
        "2. Write a program that asks the user for the number of hours worked and the hourly rate. Then, it should display on the screen the corresponding payment.\n",
        "\n",
        "3. Write a program that asks the user for their weight (in kg) and height (in meters), calculates the body mass index (BMI), stores it in a variable, and displays the message \"Your body mass index is imc\" on the screen, where imc is the calculated BMI rounded to two decimal places."
      ],
      "metadata": {
        "id": "96blkWptzDmu"
      }
    },
    {
      "cell_type": "markdown",
      "source": [
        "Respuesta del ejercicio 1:"
      ],
      "metadata": {
        "id": "t6CXEJqEr-NT"
      }
    },
    {
      "cell_type": "code",
      "source": [
        "x = ((3+2)/(2.5))**2\n",
        "print(\"El resultado de la operacion anterior es: \",x)"
      ],
      "metadata": {
        "colab": {
          "base_uri": "https://localhost:8080/"
        },
        "id": "MoY37z7ErGo6",
        "outputId": "38588250-a444-4aff-b143-10e233547be5"
      },
      "execution_count": 22,
      "outputs": [
        {
          "output_type": "stream",
          "name": "stdout",
          "text": [
            "El resultado de la operacion anterior es:  4.0\n"
          ]
        }
      ]
    },
    {
      "cell_type": "markdown",
      "source": [
        "Respuesta del ejercicio 2:"
      ],
      "metadata": {
        "id": "nBV8xWbtsMYz"
      }
    },
    {
      "cell_type": "code",
      "source": [
        "x = int(input(\"Por favor escriba cuantas horas trabajo: \"))\n",
        "y = int(input(\"Por favor escriba cuanto dinero le pagan por cada hora trabajada: \"))\n",
        "print(\"Su pago es: \",x*y)\n"
      ],
      "metadata": {
        "colab": {
          "base_uri": "https://localhost:8080/"
        },
        "id": "LvAibHHOsSGb",
        "outputId": "279b8e81-476f-4c28-caa9-7da4dbb81f5c"
      },
      "execution_count": null,
      "outputs": [
        {
          "output_type": "stream",
          "name": "stdout",
          "text": [
            "Por favor escriba cuantas horas trabajo: 5\n",
            "Por favor escriba cuanto dinero le pagan por cada hora trabajada: 40\n",
            "Su pago es:  200\n"
          ]
        }
      ]
    },
    {
      "cell_type": "markdown",
      "source": [
        "Respuesta del ejercicio 3:"
      ],
      "metadata": {
        "id": "TR2SwesYubXE"
      }
    },
    {
      "cell_type": "code",
      "source": [
        "x = float(input(\"Por favor escriba su peso (en Kg): \"))\n",
        "y = float(input(\"Por favor escriba su altura (en Metros): \"))\n",
        "imc = x/(y**2)\n",
        "imc = round (imc,2)\n",
        "print(\"Tu indice de masa corporal es: \",imc)"
      ],
      "metadata": {
        "colab": {
          "base_uri": "https://localhost:8080/"
        },
        "id": "WtP1Q9yLufzl",
        "outputId": "f8d52988-b658-4922-cded-5f99f7a224aa"
      },
      "execution_count": null,
      "outputs": [
        {
          "output_type": "stream",
          "name": "stdout",
          "text": [
            "Por favor escriba su peso (en Kg): 40\n",
            "Por favor escriba su altura (en Metros): 1.80\n",
            "Tu indice de masa corporal es:  12.35\n"
          ]
        }
      ]
    }
  ]
}