{
  "nbformat": 4,
  "nbformat_minor": 0,
  "metadata": {
    "colab": {
      "provenance": [],
      "include_colab_link": true
    },
    "kernelspec": {
      "name": "python3",
      "display_name": "Python 3"
    },
    "language_info": {
      "name": "python"
    }
  },
  "cells": [
    {
      "cell_type": "markdown",
      "metadata": {
        "id": "view-in-github",
        "colab_type": "text"
      },
      "source": [
        "<a href=\"https://colab.research.google.com/github/Mateo289/Cuadernos-Python_Basic/blob/main/Copia_de_3_Loops.ipynb\" target=\"_parent\"><img src=\"https://colab.research.google.com/assets/colab-badge.svg\" alt=\"Open In Colab\"/></a>"
      ]
    },
    {
      "cell_type": "markdown",
      "source": [
        "Cuaderno 3. Loops\n",
        "\n",
        "Mateo Duque Gaviria\n",
        "\n",
        "2024"
      ],
      "metadata": {
        "id": "_5iioeKJtQyF"
      }
    },
    {
      "cell_type": "markdown",
      "source": [
        "## Exercise 1\n",
        "\n",
        "Write a code that ask the user to enter an integer number every time, and the process will be repeated with more numbers until the user enters a zero.\n",
        "\n",
        "At the end (when the zero is entered), show the amount of numbers entered."
      ],
      "metadata": {
        "id": "6cEQ4HEN4ODA"
      }
    },
    {
      "cell_type": "markdown",
      "source": [
        "Respuesta del ejercicio 1:"
      ],
      "metadata": {
        "id": "GD9ELZK6m-Ql"
      }
    },
    {
      "cell_type": "code",
      "source": [
        "cantnum_ingresados = 0\n",
        "x = int(input(\"Digite un numero: \"))\n",
        "while x !=0 :\n",
        "  x = int(input(\"Digite un numero: \"))\n",
        "  cantnum_ingresados += 1\n",
        "print (\"La cantidad de numeros ingresados es \",cantnum_ingresados)"
      ],
      "metadata": {
        "colab": {
          "base_uri": "https://localhost:8080/"
        },
        "id": "GXdwqjX6nILc",
        "outputId": "5cc8b472-8c0e-4f20-a0c3-93649afa099c"
      },
      "execution_count": 6,
      "outputs": [
        {
          "output_type": "stream",
          "name": "stdout",
          "text": [
            "Digite un numero: 8\n",
            "Digite un numero: 9\n",
            "Digite un numero: 0\n",
            "La cantidad de numeros ingresados es  2\n"
          ]
        }
      ]
    },
    {
      "cell_type": "markdown",
      "source": [
        "## Exercise 2\n",
        "Use the input() function to ask for the user to enter one integer number. Only if the number is even, it will be accumulated.\n",
        "\n",
        "The program must come to an end if the sum of the numbers surpasses 50 or if the user enters a maximum of 10 numbers."
      ],
      "metadata": {
        "id": "8s-BFauy5BkM"
      }
    },
    {
      "cell_type": "code",
      "source": [],
      "metadata": {
        "id": "nO2aNdT2r3pV"
      },
      "execution_count": null,
      "outputs": []
    },
    {
      "cell_type": "markdown",
      "source": [
        "Respuesta del ejercicio 2:"
      ],
      "metadata": {
        "id": "cPwPzOiloixY"
      }
    },
    {
      "cell_type": "code",
      "source": [
        "acumulador =0\n",
        "suma = 0\n",
        "acumulador_pares = 0\n",
        "while suma <= 50 and acumulador < 10:\n",
        "  x = int(input(\"Digite un numero: \"))\n",
        "  suma += x\n",
        "  acumulador += 1\n",
        "  if x % 2 == 0:\n",
        "    acumulador_pares += 1\n",
        "\n",
        "\n",
        "print(\"La suma de los \",acumulador,\" numeros que ingreso 1es: \",suma)\n",
        "print(\"Usted ingeso \",acumulador_pares,\" numeros pares\")\n"
      ],
      "metadata": {
        "colab": {
          "base_uri": "https://localhost:8080/"
        },
        "id": "Jr_t721KomHO",
        "outputId": "225f51cc-bdd0-4ef6-f926-f1999447f572"
      },
      "execution_count": 18,
      "outputs": [
        {
          "output_type": "stream",
          "name": "stdout",
          "text": [
            "Digite un numero: 20\n",
            "Digite un numero: 5\n",
            "Digite un numero: 155\n",
            "La suma de los  3  numeros que ingreso es:  180\n",
            "Usted ingeso  1  numeros pares\n"
          ]
        }
      ]
    }
  ]
}