{
  "nbformat": 4,
  "nbformat_minor": 0,
  "metadata": {
    "colab": {
      "provenance": [],
      "include_colab_link": true
    },
    "kernelspec": {
      "name": "python3",
      "display_name": "Python 3"
    },
    "language_info": {
      "name": "python"
    }
  },
  "cells": [
    {
      "cell_type": "markdown",
      "metadata": {
        "id": "view-in-github",
        "colab_type": "text"
      },
      "source": [
        "<a href=\"https://colab.research.google.com/github/Mateo289/Cuadernos-Python_Basic/blob/main/Copia_de_2_Conditionals.ipynb\" target=\"_parent\"><img src=\"https://colab.research.google.com/assets/colab-badge.svg\" alt=\"Open In Colab\"/></a>"
      ]
    },
    {
      "cell_type": "markdown",
      "source": [
        "# Conditionals"
      ],
      "metadata": {
        "id": "VTg9sEC1C3SO"
      }
    },
    {
      "cell_type": "markdown",
      "source": [
        "\n",
        "## Exercises:\n",
        "\n",
        "1. In order to pay a certain tax, you must be over 16 years old and have a monthly income equal to or greater than €1000. Write a program that asks the user for their age and monthly income, and displays whether the user has to pay the tax or not.\n",
        "\n",
        "\n",
        "2. The Bella Napoli pizzeria offers vegetarian and non-vegetarian pizzas to its customers. The ingredients for each type of pizza are as follows:\n",
        "\n",
        "Vegetarian ingredients: Bell peppers and tofu.\n",
        "\n",
        "Non-vegetarian ingredients: Pepperoni, Ham, and Salmon.\n",
        "\n",
        "Write a program that asks the user if they want a vegetarian pizza or not, and based on their response, displays a menu with the available ingredients for them to choose from. Only one additional ingredient can be chosen besides the mozzarella and tomato, which are included in all pizzas. Finally, the program should display whether the chosen pizza is vegetarian or not, along with all the ingredients it contains."
      ],
      "metadata": {
        "id": "fO1RHJGAiIp2"
      }
    },
    {
      "cell_type": "markdown",
      "source": [
        "Respuesta del ejercicio 1:"
      ],
      "metadata": {
        "id": "U2pLCxzC48PA"
      }
    },
    {
      "cell_type": "code",
      "source": [
        "edad = int(input(\"Ingrese su edad: \"))\n",
        "ingreso_mensual = float(input(\"Ingrese su ingreso mensual en euros: \"))\n",
        "\n",
        "if edad > 16 and ingreso_mensual >= 1000:\n",
        "    print(\"Debe pagar el impuesto.\")\n",
        "else:\n",
        "    print(\"No tiene que pagar el impuesto.\")\n"
      ],
      "metadata": {
        "colab": {
          "base_uri": "https://localhost:8080/"
        },
        "id": "T2yPRAZk5AqB",
        "outputId": "2b6ed18e-5de2-42d5-99e8-1365d48e588a"
      },
      "execution_count": 5,
      "outputs": [
        {
          "output_type": "stream",
          "name": "stdout",
          "text": [
            "Ingrese su edad: 20\n",
            "Ingrese su ingreso mensual en euros: 2000\n",
            "Debe pagar el impuesto.\n"
          ]
        }
      ]
    },
    {
      "cell_type": "markdown",
      "source": [
        "Respuesta del ejercicio 2:\n",
        "\n"
      ],
      "metadata": {
        "id": "QYoYpmpR5WDg"
      }
    },
    {
      "cell_type": "code",
      "source": [
        "\n",
        "opcion = input(\"¿Desea una pizza vegetariana? (sí/no): \").lower()\n",
        "\n",
        "\n",
        "ingredientes_base = [\"mozzarella\", \"tomate\"]\n",
        "\n",
        "# Verificar la opción del usuario y mostrar los ingredientes disponibles\n",
        "if opcion == \"sí\":\n",
        "    print(\"Ingredientes disponibles para la pizza vegetariana:\")\n",
        "    print(\"1. Pimientos\")\n",
        "    print(\"2. Tofu\")\n",
        "else:\n",
        "    print(\"Ingredientes disponibles para la pizza no vegetariana:\")\n",
        "    print(\"1. Pepperoni\")\n",
        "    print(\"2. Jamón\")\n",
        "    print(\"3. Salmón\")\n",
        "\n",
        "# Solicitar al usuario que elija un ingrediente adicional\n",
        "ingrediente_adicional = input(\"Elija un ingrediente adicional (Ingrese el número correspondiente): \")\n",
        "\n",
        "# Agregar el ingrediente adicional a la lista de ingredientes base\n",
        "if ingrediente_adicional == \"1\":\n",
        "    ingredientes_base.append(\"pimientos\")\n",
        "elif ingrediente_adicional == \"2\" and opcion == \"sí\":\n",
        "    ingredientes_base.append(\"tofu\")\n",
        "elif ingrediente_adicional == \"2\" and opcion == \"no\":\n",
        "    ingredientes_base.append(\"pepperoni\")\n",
        "elif ingrediente_adicional == \"3\":\n",
        "    ingredientes_base.append(\"salmón\")\n",
        "\n",
        "# Mostrar los ingredientes de la pizza seleccionada\n",
        "print(\"\\nIngredientes de la pizza:\")\n",
        "for ingrediente in ingredientes_base:\n",
        "    print(\"-\", ingrediente)\n",
        "\n",
        "# Determinar si la pizza es vegetariana o no\n",
        "if opcion == \"sí\":\n",
        "    print(\"\\nEsta pizza es vegetariana.\")\n",
        "else:\n",
        "    print(\"\\nEsta pizza no es vegetariana.\")\n"
      ],
      "metadata": {
        "id": "JAItuc7I5Z7A"
      },
      "execution_count": null,
      "outputs": []
    }
  ]
}