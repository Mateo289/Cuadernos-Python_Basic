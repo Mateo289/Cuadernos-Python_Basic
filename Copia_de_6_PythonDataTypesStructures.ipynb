{
  "nbformat": 4,
  "nbformat_minor": 0,
  "metadata": {
    "colab": {
      "provenance": [],
      "include_colab_link": true
    },
    "kernelspec": {
      "name": "python3",
      "display_name": "Python 3"
    },
    "language_info": {
      "name": "python"
    }
  },
  "cells": [
    {
      "cell_type": "markdown",
      "metadata": {
        "id": "view-in-github",
        "colab_type": "text"
      },
      "source": [
        "<a href=\"https://colab.research.google.com/github/Mateo289/Cuadernos-Python_Basic/blob/main/Copia_de_6_PythonDataTypesStructures.ipynb\" target=\"_parent\"><img src=\"https://colab.research.google.com/assets/colab-badge.svg\" alt=\"Open In Colab\"/></a>"
      ]
    },
    {
      "cell_type": "markdown",
      "source": [
        "Cuaderno 6. Listas, tuplas y diccionario\n",
        "\n",
        "Mateo Duque Gaviria"
      ],
      "metadata": {
        "id": "9izTKAKKIdnm"
      }
    },
    {
      "cell_type": "markdown",
      "source": [
        "##**Exercise_1**\n",
        "\n",
        "Write a function that takes a list of numbers as input and returns the sum of all the odd numbers in the list. For example, if the input is [1, 2, 3, 4, 5, 6], the function should return 9 (which is the sum of 1, 3, and 5)."
      ],
      "metadata": {
        "id": "3MDtAtv-UG5P"
      }
    },
    {
      "cell_type": "markdown",
      "source": [
        "Respuesta ejercicio 1:"
      ],
      "metadata": {
        "id": "ZOs7S462I4BC"
      }
    },
    {
      "cell_type": "code",
      "source": [
        "def ingresar_numeros():\n",
        "    numeros = []\n",
        "    while True:\n",
        "        try:\n",
        "            num = int(input(\"Ingresa un número: \"))\n",
        "            numeros.append(num)\n",
        "        except ValueError:\n",
        "            break\n",
        "    return numeros\n",
        "\n",
        "print(\"Ingresa números uno por uno. Presiona cualquier tecla que no sea un número para terminar.\")\n",
        "lista_numeros = ingresar_numeros()\n",
        "print(\"La lista de números ingresada es:\", lista_numeros)\n",
        "\n",
        "\n",
        "def suma_impares (lista_numeros):\n",
        "  suma = 0\n",
        "  for numero in lista_numeros:\n",
        "    if numero % 2 != 0:\n",
        "      suma += numero\n",
        "  return suma\n",
        "\n",
        "print(\"La suma de los números impares en la lista es:\",suma_impares(lista_numeros))\n",
        "\n",
        "\n",
        "\n",
        "\n",
        "\n",
        "\n"
      ],
      "metadata": {
        "colab": {
          "base_uri": "https://localhost:8080/"
        },
        "id": "FX3LDuYII-c6",
        "outputId": "8bedbc74-5533-4a3c-b8df-772cc80b60f4"
      },
      "execution_count": 43,
      "outputs": [
        {
          "output_type": "stream",
          "name": "stdout",
          "text": [
            "Ingresa números uno por uno. Presiona cualquier tecla que no sea un número para terminar.\n",
            "Ingresa un número: 3\n",
            "Ingresa un número: 4\n",
            "Ingresa un número: 5\n",
            "Ingresa un número: 7\n",
            "Ingresa un número: 3\n",
            "Ingresa un número: y\n",
            "La lista de números ingresada es: [3, 4, 5, 7, 3]\n",
            "La suma de los números impares en la lista es: 18\n"
          ]
        }
      ]
    },
    {
      "cell_type": "markdown",
      "source": [
        "##**Exercise_2**\n",
        "Write a function that takes a list of words as input and returns a dictionary that counts the number of times each word appears in the list. For example, if the input is ['apple', 'banana', 'apple', 'cherry', 'cherry', 'cherry'], the function should return {'apple': 2, 'banana': 1, 'cherry': 3}."
      ],
      "metadata": {
        "id": "kPhBJ5HUUlvN"
      }
    },
    {
      "cell_type": "markdown",
      "source": [
        "Respuesta ejercicio 2:"
      ],
      "metadata": {
        "id": "C1S-3OJMwnaK"
      }
    },
    {
      "cell_type": "code",
      "source": [
        "def palabrasrep(lista_palabras):\n",
        "  lista = {}\n",
        "  for posicion in lista_palabras:\n",
        "    if posicion in lista:\n",
        "      lista[posicion] += 1\n",
        "    else:\n",
        "      lista[posicion] = 1\n",
        "  return lista\n",
        "\n",
        "lista_palabras = ['apple', 'banana', 'apple', 'cherry', 'cherry', 'cherry']\n",
        "print(palabrasrep(lista_palabras))\n",
        "\n",
        "\n"
      ],
      "metadata": {
        "id": "cWV3WymdezoZ",
        "colab": {
          "base_uri": "https://localhost:8080/"
        },
        "outputId": "deecccc5-dfb6-4c5d-8565-8a2dba3c0b8a"
      },
      "execution_count": 47,
      "outputs": [
        {
          "output_type": "stream",
          "name": "stdout",
          "text": [
            "{'apple': 2, 'banana': 1, 'cherry': 3}\n"
          ]
        }
      ]
    }
  ]
}