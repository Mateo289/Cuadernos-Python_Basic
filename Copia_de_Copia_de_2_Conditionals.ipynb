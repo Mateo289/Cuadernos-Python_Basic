{
  "nbformat": 4,
  "nbformat_minor": 0,
  "metadata": {
    "colab": {
      "provenance": [],
      "include_colab_link": true
    },
    "kernelspec": {
      "name": "python3",
      "display_name": "Python 3"
    },
    "language_info": {
      "name": "python"
    }
  },
  "cells": [
    {
      "cell_type": "markdown",
      "metadata": {
        "id": "view-in-github",
        "colab_type": "text"
      },
      "source": [
        "<a href=\"https://colab.research.google.com/github/Mateo289/Cuadernos-Python_Basic/blob/main/Copia_de_Copia_de_2_Conditionals.ipynb\" target=\"_parent\"><img src=\"https://colab.research.google.com/assets/colab-badge.svg\" alt=\"Open In Colab\"/></a>"
      ]
    },
    {
      "cell_type": "markdown",
      "source": [
        "# Conditionals"
      ],
      "metadata": {
        "id": "VTg9sEC1C3SO"
      }
    },
    {
      "cell_type": "markdown",
      "source": [
        "\n",
        "## Exercises:\n",
        "\n",
        "1. In order to pay a certain tax, you must be over 16 years old and have a monthly income equal to or greater than €1000. Write a program that asks the user for their age and monthly income, and displays whether the user has to pay the tax or not.\n",
        "\n",
        "\n",
        "2. The Bella Napoli pizzeria offers vegetarian and non-vegetarian pizzas to its customers. The ingredients for each type of pizza are as follows:\n",
        "\n",
        "Vegetarian ingredients: Bell peppers and tofu.\n",
        "\n",
        "Non-vegetarian ingredients: Pepperoni, Ham, and Salmon.\n",
        "\n",
        "Write a program that asks the user if they want a vegetarian pizza or not, and based on their response, displays a menu with the available ingredients for them to choose from. Only one additional ingredient can be chosen besides the mozzarella and tomato, which are included in all pizzas. Finally, the program should display whether the chosen pizza is vegetarian or not, along with all the ingredients it contains."
      ],
      "metadata": {
        "id": "fO1RHJGAiIp2"
      }
    },
    {
      "cell_type": "markdown",
      "source": [
        "Respuesta del ejercicio 1:"
      ],
      "metadata": {
        "id": "U2pLCxzC48PA"
      }
    },
    {
      "cell_type": "code",
      "source": [
        "edad = int(input(\"Ingrese su edad: \"))\n",
        "ingreso_mensual = float(input(\"Ingrese su ingreso mensual en euros: \"))\n",
        "\n",
        "if edad > 16 and ingreso_mensual >= 1000:\n",
        "    print(\"Debe pagar el impuesto.\")\n",
        "else:\n",
        "    print(\"No tiene que pagar el impuesto.\")\n"
      ],
      "metadata": {
        "colab": {
          "base_uri": "https://localhost:8080/"
        },
        "id": "T2yPRAZk5AqB",
        "outputId": "2b6ed18e-5de2-42d5-99e8-1365d48e588a"
      },
      "execution_count": null,
      "outputs": [
        {
          "output_type": "stream",
          "name": "stdout",
          "text": [
            "Ingrese su edad: 20\n",
            "Ingrese su ingreso mensual en euros: 2000\n",
            "Debe pagar el impuesto.\n"
          ]
        }
      ]
    },
    {
      "cell_type": "markdown",
      "source": [
        "Respuesta del ejercicio 2:\n",
        "\n"
      ],
      "metadata": {
        "id": "QYoYpmpR5WDg"
      }
    },
    {
      "cell_type": "code",
      "source": [
        "\n",
        "\n",
        "opcionpizza = int(input(\"Escriba (1) si desea una pizza vegetariana o (2) si desea una pizza NO vegetariana: \"))\n",
        "if opcionpizza == 1:\n",
        "  print(\"Ingredientes Adicionales \")\n",
        "  print(\"1.Pimientos\")\n",
        "  print(\"2.Tofu\")\n",
        "  x = int(input(\"Que ingrediente desea adicionarle a su pizza vegetariana: \"))\n",
        "  if x == 1:\n",
        "    print(\"Usted elijio una pizza vegetariana con los siguientes ingredientes: \")\n",
        "    print(\"Mozarella\")\n",
        "    print(\"Tomate\")\n",
        "    print(\"Pimientos\")\n",
        "  elif x == 2:\n",
        "    print(\"Usted elijio una pizza vegetariana con los siguientes ingredientes: \")\n",
        "    print(\"Mozarella\")\n",
        "    print(\"Tomate\")\n",
        "    print(\"Tofu\")\n",
        "elif opcionpizza ==2 :\n",
        "  print(\"Ingredientes Adicionales \")\n",
        "  print(\"1.Pepperoni\")\n",
        "  print(\"2.Jamon\")\n",
        "  print(\"3.Salmon\")\n",
        "  y = int(input(\"Que ingrediente desea adicionarle a su pizza NO vegetariana: \"))\n",
        "  if y == 1:\n",
        "    print(\"Usted elijio una pizza NO vegetariana con los siguientes ingredientes: \")\n",
        "    print(\"Mozarella\")\n",
        "    print(\"Tomate\")\n",
        "    print(\"Pepperoni\")\n",
        "  elif y == 2:\n",
        "    print(\"Usted elijio una pizza NO vegetariana con los siguientes ingredientes: \")\n",
        "    print(\"Mozarella\")\n",
        "    print(\"Tomate\")\n",
        "    print(\"Jamon\")\n",
        "  elif y == 3:\n",
        "    print(\"Usted elijio una pizza NO vegetariana con los siguientes ingredientes: \")\n",
        "    print(\"Mozarella\")\n",
        "    print(\"Tomate\")\n",
        "    print(\"Salmon\")\n",
        "\n",
        "\n"
      ],
      "metadata": {
        "id": "JAItuc7I5Z7A",
        "colab": {
          "base_uri": "https://localhost:8080/"
        },
        "outputId": "d42c992b-2cc3-455d-cd22-8571020b5c25"
      },
      "execution_count": 6,
      "outputs": [
        {
          "output_type": "stream",
          "name": "stdout",
          "text": [
            "Escriba (1) si desea una pizza vegetariana o (2) si desea una pizza NO vegetariana: 1\n",
            "Ingredientes Adicionales \n",
            "1.Pimientos\n",
            "2.Tofu\n",
            "Que ingrediente desea adicionarle a su pizza vegetariana: 1\n",
            "Usted elijio una pizza vegetariana con los siguientes ingredientes: \n",
            "Mozarella\n",
            "Tomate\n",
            "Pimientos\n"
          ]
        }
      ]
    }
  ]
}