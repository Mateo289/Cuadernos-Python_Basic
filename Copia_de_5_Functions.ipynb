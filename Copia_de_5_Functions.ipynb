{
  "nbformat": 4,
  "nbformat_minor": 0,
  "metadata": {
    "colab": {
      "provenance": [],
      "include_colab_link": true
    },
    "kernelspec": {
      "name": "python3",
      "display_name": "Python 3"
    },
    "language_info": {
      "name": "python"
    }
  },
  "cells": [
    {
      "cell_type": "markdown",
      "metadata": {
        "id": "view-in-github",
        "colab_type": "text"
      },
      "source": [
        "<a href=\"https://colab.research.google.com/github/Mateo289/Cuadernos-Python_Basic/blob/main/Copia_de_5_Functions.ipynb\" target=\"_parent\"><img src=\"https://colab.research.google.com/assets/colab-badge.svg\" alt=\"Open In Colab\"/></a>"
      ]
    },
    {
      "cell_type": "markdown",
      "source": [
        "Cuaderno 5. Funciones\n",
        "\n",
        "Mateo Duque Gaviria\n",
        "\n"
      ],
      "metadata": {
        "id": "-7glLPGrb4uI"
      }
    },
    {
      "cell_type": "markdown",
      "source": [
        "## Exercise 1\n",
        "\n"
      ],
      "metadata": {
        "id": "bZmYScf-CCRg"
      }
    },
    {
      "cell_type": "markdown",
      "source": [
        "The area of a triangle can be calculated when the length of its sides is known. Taking into account that s1, s2 and s3 are the lengths of the sides of the triangle, the subperimeter s = (s1+s2+s3)/2 can be calculated, and, with this value, the area of the triangle can be calculated from the follows: area = √( s * (s-s1) * (s-s2) * (s-s3) ).\n",
        "\n",
        "Create a function that takes the length of the sides of the triangle and returns the area of the triangle, rounded to one decimal place.\n",
        "\n",
        "The math module can help you calculate the square root.\n",
        "\n",
        "\n"
      ],
      "metadata": {
        "id": "S6OE1xSBCFfb"
      }
    },
    {
      "cell_type": "markdown",
      "source": [
        "Respuesta del ejercicio 1:"
      ],
      "metadata": {
        "id": "jXYZfkyLcG_g"
      }
    },
    {
      "cell_type": "code",
      "source": [
        "import math\n",
        "def area_tri (s1,s2,s3):\n",
        "  s = (s1+s2+s3)/2\n",
        "  print(\"El semiperimetro del triangulo es: \",s)\n",
        "  area = math.sqrt(s*(s-s1)*(s-s2)*(s-s3))\n",
        "  area_f = round(area,2)\n",
        "  print(\"El area del triangulo es: \",area_f)\n",
        "\n",
        "l1 = float(input(\"Ingrese el lado 1 del triangulo: \"))\n",
        "l2 = float(input(\"Ingrese el lado 2 del triangulo: \"))\n",
        "l3 = float(input(\"Ingrese el lado 3 del triangulo: \"))\n",
        "\n",
        "print (area_tri(l1,l2,l3))"
      ],
      "metadata": {
        "id": "Sl5QWizdcKFN",
        "colab": {
          "base_uri": "https://localhost:8080/"
        },
        "outputId": "a63c5774-a0d4-4278-a5ee-6efdc5408acb"
      },
      "execution_count": 2,
      "outputs": [
        {
          "output_type": "stream",
          "name": "stdout",
          "text": [
            "Ingrese el lado 1 del triangulo: 5\n",
            "Ingrese el lado 2 del triangulo: 7\n",
            "Ingrese el lado 3 del triangulo: 6\n",
            "El semiperimetro del triangulo es:  9.0\n",
            "El area del triangulo es:  14.7\n",
            "None\n"
          ]
        }
      ]
    },
    {
      "cell_type": "markdown",
      "source": [
        "## Exercise 2"
      ],
      "metadata": {
        "id": "vJXNrk1s3WNa"
      }
    },
    {
      "cell_type": "markdown",
      "source": [
        "Create a function that can calculate a person's body mass index (BMI).\n",
        "\n",
        "The formula to calculate BMI is as follows:\n",
        "\n",
        "BMI = weight/(height^2)\n",
        "\n",
        "In this formula the weight is in kilograms and the height in meters. Note that the weight and height received by your function will be in pounds and inches respectively, since your function will be used in the United States.\n",
        "\n",
        "Remember that:\n",
        "\n",
        "- 1 pound corresponds to 0.45kg.\n",
        "\n",
        "- 1 inch corresponds to 0.025 meters.\n",
        "\n",
        "The return value must be rounded to two decimal places.\n",
        "\n",
        "\n"
      ],
      "metadata": {
        "id": "D_d0hp_w3Z0x"
      }
    },
    {
      "cell_type": "markdown",
      "source": [
        "Respuesta del ejercicio 2:"
      ],
      "metadata": {
        "id": "MfQqNhKaji3r"
      }
    },
    {
      "cell_type": "code",
      "source": [
        "def imc (peso,altura):\n",
        "  peso_kg = peso * 0.45\n",
        "  altura_m = altura * 0.025\n",
        "  imc_ = peso_kg /(altura_m)**2\n",
        "  imc_re = round(imc_,2)\n",
        "  print(\"Su indice de masa corporal es:\",imc_re)\n",
        "\n",
        "peso = float(input(\"Ingrese su peso (en libras): \"))\n",
        "altura = float(input(\"Ingrese su altura (en pulgadas): \"))\n",
        "print(imc(peso,altura))\n"
      ],
      "metadata": {
        "colab": {
          "base_uri": "https://localhost:8080/"
        },
        "id": "sGcT4JVGjsRT",
        "outputId": "6044af50-93bf-4e51-b362-a72099211a49"
      },
      "execution_count": 18,
      "outputs": [
        {
          "output_type": "stream",
          "name": "stdout",
          "text": [
            "Ingrese su peso (en libras): 90\n",
            "Ingrese su altura (en pulgadas): 80\n",
            "Su indice de masa corporal es: 10.12\n",
            "None\n"
          ]
        }
      ]
    }
  ]
}